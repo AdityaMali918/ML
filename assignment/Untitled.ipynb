{
 "cells": [
  {
   "cell_type": "code",
   "execution_count": 146,
   "id": "9e3b3d39-59f6-44bb-b1eb-b3cb3e299f13",
   "metadata": {},
   "outputs": [],
   "source": [
    "import nltk\n",
    "from nltk.tokenize import word_tokenize\n",
    "from nltk import pos_tag\n",
    "from nltk.corpus import stopwords\n",
    "from nltk.stem import LancasterStemmer,WordNetLemmatizer\n",
    "from sklearn.feature_extraction.text import TfidfVectorizer\n",
    "\n",
    "# nltk.download('punkt')\n",
    "# nltk.download('stopwords')\n",
    "# nltk.download('averaged_perceptron_tagger')\n",
    "# nltk.download('wordnet')\n",
    "\n",
    "doc1 = \"people watching people\"\n",
    "doc2 = \"people comment on youtube\""
   ]
  },
  {
   "cell_type": "code",
   "execution_count": 147,
   "id": "f7f5399a-e010-4a9d-9af5-5dedafa52c7b",
   "metadata": {},
   "outputs": [
    {
     "data": {
      "text/plain": [
       "['people', 'watching', 'people']"
      ]
     },
     "execution_count": 147,
     "metadata": {},
     "output_type": "execute_result"
    }
   ],
   "source": [
    "tokens = word_tokenize(doc1)\n",
    "tokens"
   ]
  },
  {
   "cell_type": "code",
   "execution_count": 148,
   "id": "18d54970-35ca-4d1b-b582-61b84c8d8bf7",
   "metadata": {},
   "outputs": [
    {
     "data": {
      "text/plain": [
       "[('people', 'NNS'), ('watching', 'VBG'), ('people', 'NNS')]"
      ]
     },
     "execution_count": 148,
     "metadata": {},
     "output_type": "execute_result"
    }
   ],
   "source": [
    "pos = pos_tag(tokens)\n",
    "pos"
   ]
  },
  {
   "cell_type": "code",
   "execution_count": 150,
   "id": "09113bf3-4338-4b08-bc2b-21e7561b36db",
   "metadata": {},
   "outputs": [
    {
     "data": {
      "text/plain": [
       "['people', 'watching', 'people']"
      ]
     },
     "execution_count": 150,
     "metadata": {},
     "output_type": "execute_result"
    }
   ],
   "source": [
    "stop_words = set(stopwords.words('english'))\n",
    "filter = [token for token in tokens if token.lower() not in stop_words]\n",
    "filter"
   ]
  },
  {
   "cell_type": "code",
   "execution_count": 152,
   "id": "b81958a9-a398-4bcf-9fd6-3b961be0fb31",
   "metadata": {},
   "outputs": [
    {
     "data": {
      "text/plain": [
       "['peopl', 'watch', 'peopl']"
      ]
     },
     "execution_count": 152,
     "metadata": {},
     "output_type": "execute_result"
    }
   ],
   "source": [
    "stemmer = LancasterStemmer()\n",
    "st = [stemmer.stem(token) for token in filter]\n",
    "st"
   ]
  },
  {
   "cell_type": "code",
   "execution_count": 155,
   "id": "b1451b5d-b8dc-424f-adb5-7793fc0de0a7",
   "metadata": {},
   "outputs": [
    {
     "data": {
      "text/plain": [
       "['people', 'watching', 'people']"
      ]
     },
     "execution_count": 155,
     "metadata": {},
     "output_type": "execute_result"
    }
   ],
   "source": [
    "lemmat = WordNetLemmatizer()\n",
    "lt = [lemmat.lemmatize(token,pos='n') for token in filter]\n",
    "lt"
   ]
  },
  {
   "cell_type": "code",
   "execution_count": 157,
   "id": "87c2a7c1-b4d7-418f-92ad-e31fcfb71c09",
   "metadata": {},
   "outputs": [
    {
     "data": {
      "text/plain": [
       "array([[0.        , 0.        , 0.81818021, 0.57496187, 0.        ],\n",
       "       [0.53404633, 0.53404633, 0.37997836, 0.        , 0.53404633]])"
      ]
     },
     "execution_count": 157,
     "metadata": {},
     "output_type": "execute_result"
    }
   ],
   "source": [
    "tf = TfidfVectorizer()\n",
    "mat = tf.fit_transform([doc1,doc2])\n",
    "mat.toarray()"
   ]
  },
  {
   "cell_type": "code",
   "execution_count": 158,
   "id": "5a58fd75-1e42-499b-83ca-c15adccbb37e",
   "metadata": {},
   "outputs": [
    {
     "data": {
      "text/plain": [
       "array([1.40546511, 1.40546511, 1.        , 1.40546511, 1.40546511])"
      ]
     },
     "execution_count": 158,
     "metadata": {},
     "output_type": "execute_result"
    }
   ],
   "source": [
    "tf.idf_"
   ]
  },
  {
   "cell_type": "code",
   "execution_count": null,
   "id": "5a6a84af-9867-41c6-8973-462ef7aa09bf",
   "metadata": {},
   "outputs": [],
   "source": []
  }
 ],
 "metadata": {
  "kernelspec": {
   "display_name": "Python 3 (ipykernel)",
   "language": "python",
   "name": "python3"
  },
  "language_info": {
   "codemirror_mode": {
    "name": "ipython",
    "version": 3
   },
   "file_extension": ".py",
   "mimetype": "text/x-python",
   "name": "python",
   "nbconvert_exporter": "python",
   "pygments_lexer": "ipython3",
   "version": "3.12.1"
  }
 },
 "nbformat": 4,
 "nbformat_minor": 5
}
