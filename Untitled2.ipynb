{
 "cells": [
  {
   "cell_type": "code",
   "execution_count": 2,
   "id": "57e0e60c-6854-4eeb-abe5-56de2d050bf4",
   "metadata": {},
   "outputs": [
    {
     "ename": "ModuleNotFoundError",
     "evalue": "No module named 'sklearn'",
     "output_type": "error",
     "traceback": [
      "\u001b[1;31m---------------------------------------------------------------------------\u001b[0m",
      "\u001b[1;31mModuleNotFoundError\u001b[0m                       Traceback (most recent call last)",
      "Cell \u001b[1;32mIn[2], line 4\u001b[0m\n\u001b[0;32m      2\u001b[0m \u001b[38;5;28;01mimport\u001b[39;00m \u001b[38;5;21;01mpandas\u001b[39;00m \u001b[38;5;28;01mas\u001b[39;00m \u001b[38;5;21;01mpd\u001b[39;00m\n\u001b[0;32m      3\u001b[0m \u001b[38;5;28;01mimport\u001b[39;00m \u001b[38;5;21;01mmatplotlib\u001b[39;00m\u001b[38;5;21;01m.\u001b[39;00m\u001b[38;5;21;01mpyplot\u001b[39;00m \u001b[38;5;28;01mas\u001b[39;00m \u001b[38;5;21;01mplt\u001b[39;00m\n\u001b[1;32m----> 4\u001b[0m \u001b[38;5;28;01mfrom\u001b[39;00m \u001b[38;5;21;01msklearn\u001b[39;00m\u001b[38;5;21;01m.\u001b[39;00m\u001b[38;5;21;01mlinear_model\u001b[39;00m \u001b[38;5;28;01mimport\u001b[39;00m LinearRegression\n\u001b[0;32m      6\u001b[0m \u001b[38;5;66;03m# Original data\u001b[39;00m\n\u001b[0;32m      7\u001b[0m data \u001b[38;5;241m=\u001b[39m {\n\u001b[0;32m      8\u001b[0m     \u001b[38;5;124m'\u001b[39m\u001b[38;5;124mMath Score\u001b[39m\u001b[38;5;124m'\u001b[39m: [\u001b[38;5;241m70\u001b[39m, \u001b[38;5;241m65\u001b[39m, \u001b[38;5;241m68\u001b[39m, \u001b[38;5;241m90\u001b[39m, \u001b[38;5;241m76\u001b[39m, \u001b[38;5;241m61\u001b[39m, \u001b[38;5;241m74\u001b[39m, \u001b[38;5;241m86\u001b[39m, \u001b[38;5;241m66\u001b[39m, \u001b[38;5;241m76\u001b[39m, \u001b[38;5;241m78\u001b[39m, \u001b[38;5;241m60\u001b[39m, \u001b[38;5;241m60\u001b[39m, \u001b[38;5;241m76\u001b[39m, \u001b[38;5;241m83\u001b[39m, \u001b[38;5;241m70\u001b[39m, \u001b[38;5;241m78\u001b[39m, \u001b[38;5;241m10\u001b[39m, \u001b[38;5;241m67\u001b[39m, \u001b[38;5;241m61\u001b[39m, \u001b[38;5;241m79\u001b[39m, \u001b[38;5;241m63\u001b[39m, \u001b[38;5;241m80\u001b[39m, \u001b[38;5;241m87\u001b[39m, \u001b[38;5;241m86\u001b[39m, \u001b[38;5;241m72\u001b[39m, \u001b[38;5;241m78\u001b[39m, \u001b[38;5;241m71\u001b[39m, \u001b[38;5;241m64\u001b[39m, \u001b[38;5;241m80\u001b[39m, \u001b[38;5;241m72\u001b[39m, \u001b[38;5;241m69\u001b[39m, \u001b[38;5;241m77\u001b[39m, \u001b[38;5;241m72\u001b[39m, \u001b[38;5;241m81\u001b[39m, \u001b[38;5;241m60\u001b[39m, \u001b[38;5;241m80\u001b[39m, \u001b[38;5;241m151\u001b[39m, \u001b[38;5;241m62\u001b[39m, \u001b[38;5;241m66\u001b[39m, \u001b[38;5;241m65\u001b[39m, \u001b[38;5;241m71\u001b[39m, \u001b[38;5;241m76\u001b[39m, \u001b[38;5;241m74\u001b[39m, \u001b[38;5;241m90\u001b[39m, \u001b[38;5;241m76\u001b[39m, \u001b[38;5;241m62\u001b[39m],\n\u001b[0;32m      9\u001b[0m     \u001b[38;5;124m'\u001b[39m\u001b[38;5;124mReading Score\u001b[39m\u001b[38;5;124m'\u001b[39m: [\u001b[38;5;241m76.0\u001b[39m, \u001b[38;5;241m65.0\u001b[39m, \u001b[38;5;241m82.0\u001b[39m, \u001b[38;5;241m76.0\u001b[39m, \u001b[38;5;241m76.042553\u001b[39m, \u001b[38;5;241m83.0\u001b[39m, \u001b[38;5;241m84.0\u001b[39m, \u001b[38;5;241m88.0\u001b[39m, \u001b[38;5;241m69.0\u001b[39m, \u001b[38;5;241m87.0\u001b[39m, \u001b[38;5;241m84.0\u001b[39m, \u001b[38;5;241m72.0\u001b[39m, \u001b[38;5;241m62.0\u001b[39m, \u001b[38;5;241m77.0\u001b[39m, \u001b[38;5;241m61.0\u001b[39m, \u001b[38;5;241m70.0\u001b[39m, \u001b[38;5;241m72.0\u001b[39m, \u001b[38;5;241m85.0\u001b[39m, \u001b[38;5;241m74.0\u001b[39m, \u001b[38;5;241m81.0\u001b[39m, \u001b[38;5;241m85.0\u001b[39m, \u001b[38;5;241m87.0\u001b[39m, \u001b[38;5;241m65.0\u001b[39m, \u001b[38;5;241m82.0\u001b[39m, \u001b[38;5;241m81.0\u001b[39m, \u001b[38;5;241m63.0\u001b[39m, \u001b[38;5;241m85.0\u001b[39m, \u001b[38;5;241m67.0\u001b[39m, \u001b[38;5;241m90.0\u001b[39m, \u001b[38;5;241m68.0\u001b[39m, \u001b[38;5;241m70.0\u001b[39m, \u001b[38;5;241m79.0\u001b[39m, \u001b[38;5;241m71.0\u001b[39m, \u001b[38;5;241m72.0\u001b[39m, \u001b[38;5;241m87.0\u001b[39m, \u001b[38;5;241m60.0\u001b[39m, \u001b[38;5;241m61.0\u001b[39m, \u001b[38;5;241m83.0\u001b[39m, \u001b[38;5;241m60.0\u001b[39m, \u001b[38;5;241m73.0\u001b[39m, \u001b[38;5;241m83.0\u001b[39m, \u001b[38;5;241m60.0\u001b[39m, \u001b[38;5;241m79.0\u001b[39m, \u001b[38;5;241m79.0\u001b[39m, \u001b[38;5;241m86.0\u001b[39m, \u001b[38;5;241m77.0\u001b[39m, \u001b[38;5;241m67.0\u001b[39m, \u001b[38;5;241m89.0\u001b[39m],\n\u001b[1;32m   (...)\u001b[0m\n\u001b[0;32m     13\u001b[0m     \u001b[38;5;124m'\u001b[39m\u001b[38;5;124mPlacement offer count\u001b[39m\u001b[38;5;124m'\u001b[39m: [\u001b[38;5;241m3\u001b[39m, \u001b[38;5;241m2\u001b[39m, \u001b[38;5;241m3\u001b[39m, \u001b[38;5;241m2\u001b[39m, \u001b[38;5;241m3\u001b[39m, \u001b[38;5;241m3\u001b[39m, \u001b[38;5;241m3\u001b[39m, \u001b[38;5;241m1\u001b[39m, \u001b[38;5;241m2\u001b[39m, \u001b[38;5;241m2\u001b[39m, \u001b[38;5;241m3\u001b[39m, \u001b[38;5;241m3\u001b[39m, \u001b[38;5;241m3\u001b[39m, \u001b[38;5;241m3\u001b[39m, \u001b[38;5;241m3\u001b[39m, \u001b[38;5;241m3\u001b[39m, \u001b[38;5;241m2\u001b[39m, \u001b[38;5;241m2\u001b[39m, \u001b[38;5;241m2\u001b[39m, \u001b[38;5;241m2\u001b[39m, \u001b[38;5;241m2\u001b[39m, \u001b[38;5;241m3\u001b[39m, \u001b[38;5;241m2\u001b[39m, \u001b[38;5;241m3\u001b[39m, \u001b[38;5;241m3\u001b[39m, \u001b[38;5;241m3\u001b[39m, \u001b[38;5;241m3\u001b[39m, \u001b[38;5;241m3\u001b[39m, \u001b[38;5;241m3\u001b[39m, \u001b[38;5;241m3\u001b[39m, \u001b[38;5;241m2\u001b[39m, \u001b[38;5;241m3\u001b[39m, \u001b[38;5;241m3\u001b[39m, \u001b[38;5;241m3\u001b[39m, \u001b[38;5;241m3\u001b[39m, \u001b[38;5;241m3\u001b[39m, \u001b[38;5;241m2\u001b[39m, \u001b[38;5;241m2\u001b[39m, \u001b[38;5;241m3\u001b[39m, \u001b[38;5;241m2\u001b[39m, \u001b[38;5;241m1\u001b[39m, \u001b[38;5;241m1\u001b[39m, \u001b[38;5;241m3\u001b[39m, \u001b[38;5;241m2\u001b[39m, \u001b[38;5;241m2\u001b[39m, \u001b[38;5;241m2\u001b[39m, \u001b[38;5;241m2\u001b[39m, \u001b[38;5;241m2\u001b[39m]\n\u001b[0;32m     14\u001b[0m }\n",
      "\u001b[1;31mModuleNotFoundError\u001b[0m: No module named 'sklearn'"
     ]
    }
   ],
   "source": [
    "import numpy as np\n",
    "import pandas as pd\n",
    "import matplotlib.pyplot as plt\n",
    "from sklearn.linear_model import LinearRegression\n",
    "\n",
    "# Original data\n",
    "data = {\n",
    "    'Math Score': [70, 65, 68, 90, 76, 61, 74, 86, 66, 76, 78, 60, 60, 76, 83, 70, 78, 10, 67, 61, 79, 63, 80, 87, 86, 72, 78, 71, 64, 80, 72, 69, 77, 72, 81, 60, 80, 151, 62, 66, 65, 71, 76, 74, 90, 76, 62],\n",
    "    'Reading Score': [76.0, 65.0, 82.0, 76.0, 76.042553, 83.0, 84.0, 88.0, 69.0, 87.0, 84.0, 72.0, 62.0, 77.0, 61.0, 70.0, 72.0, 85.0, 74.0, 81.0, 85.0, 87.0, 65.0, 82.0, 81.0, 63.0, 85.0, 67.0, 90.0, 68.0, 70.0, 79.0, 71.0, 72.0, 87.0, 60.0, 61.0, 83.0, 60.0, 73.0, 83.0, 60.0, 79.0, 79.0, 86.0, 77.0, 67.0, 89.0],\n",
    "    'Writing Score': [68.0, 69.0, 65.0, 68.0, 89.0, 70.0, 69.0, 79.0, 77.0, 78.0, 77.0, 82.0, 80.0, 74.0, 60.0, 72.0, 78.0, 89.0, 63.0, 62.0, 78.0, 65.0, 60.0, 86.0, 60.0, 70.0, 76.0, 86.0, 69.0, 81.0, 62.0, 64.0, 77.0, 62.0, 70.0, 82.0, 76.0, 70.0, 88.0, 70.0, 87.0, 80.0, 79.0, 71.0, 79.0, 84.0, 79.0, 86.0, 89.0],\n",
    "    'Placement Score': [99, 85, 99, 82, 91, 90, 98, 75, 85, 83, 90, 99, 99, 93, 98, 78, 83, 81, 80, 92, 85, 96, 80, 98, 95, 86, 91, 95, 92, 92, 85, 89, 83, 91, 87, 95, 87, 79, 97, 87, 86, 86, 94, 79, 87, 79, 87],\n",
    "    'Club join year': [2022, 2023, 2018, 2019, 2019, 2019, 2018, 2019, 2023, 2023, 2021, 2020, 2019, 2019, 2021, 2023, 2022, 2019, 2018, 2018, 2021, 2019, 2020, 2020, 2019, 2019, 2022, 2019, 2018, 2021, 2019, 2022, 2020, 2018, 2018, 2019, 2019, 2018, 2018, 2022, 2018, 2021, 2019, 2018, 2018, 2022, 2018, 2019, 2018, 2018, 2018],\n",
    "    'Placement offer count': [3, 2, 3, 2, 3, 3, 3, 1, 2, 2, 3, 3, 3, 3, 3, 3, 2, 2, 2, 2, 2, 3, 2, 3, 3, 3, 3, 3, 3, 3, 2, 3, 3, 3, 3, 3, 2, 2, 3, 2, 1, 1, 3, 2, 2, 2, 2, 2]\n",
    "}\n",
    "\n",
    "# Convert data to DataFrame\n",
    "df = pd.DataFrame(data)\n",
    "\n",
    "# Apply a logarithmic transformation to the 'Math Score' variable\n",
    "df['Log Math Score'] = np.log(df['Math Score'])\n",
    "\n",
    "# Scatter plot before transformation\n",
    "plt.figure(figsize=(10, 6))\n",
    "plt.scatter(df['Math Score'], df['Placement Score'], color='blue')\n",
    "plt.title('Scatter plot of Math Score vs Placement Score')\n",
    "plt.xlabel('Math Score')\n",
    "plt.ylabel('Placement Score')\n",
    "plt.grid(True)\n",
    "plt.show()\n",
    "\n",
    "# Scatter plot after transformation\n",
    "plt.figure(figsize=(10, 6))\n",
    "plt.scatter(df['Log Math Score'], df['Placement Score'], color='red')\n",
    "plt.title('Scatter plot of Log Math Score vs Placement Score')\n",
    "plt.xlabel('Log Math Score')\n",
    "plt.ylabel('Placement Score')\n",
    "plt.grid(True)\n",
    "plt.show()\n",
    "\n",
    "# Linear regression after transformation\n",
    "X = df['Log Math Score'].values.reshape(-1, 1)\n",
    "y = df['Placement Score'].values\n",
    "reg = LinearRegression().fit(X, y)\n",
    "print(\"Linear Regression Coefficients (Log Math Score):\", reg.coef_)\n",
    "print(\"Linear Regression Intercept (Log Math Score):\", reg.intercept_)\n"
   ]
  }
 ],
 "metadata": {
  "kernelspec": {
   "display_name": "Python 3 (ipykernel)",
   "language": "python",
   "name": "python3"
  },
  "language_info": {
   "codemirror_mode": {
    "name": "ipython",
    "version": 3
   },
   "file_extension": ".py",
   "mimetype": "text/x-python",
   "name": "python",
   "nbconvert_exporter": "python",
   "pygments_lexer": "ipython3",
   "version": "3.12.1"
  }
 },
 "nbformat": 4,
 "nbformat_minor": 5
}
